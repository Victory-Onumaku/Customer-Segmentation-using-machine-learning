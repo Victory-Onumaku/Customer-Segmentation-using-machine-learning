{
  "cells": [
    {
      "cell_type": "markdown",
      "id": "dda0dbb5",
      "metadata": {
        "id": "dda0dbb5"
      },
      "source": [
        "## Project Name : Customer Segementation using Machine Learning"
      ]
    },
    {
      "cell_type": "markdown",
      "id": "22580c65",
      "metadata": {
        "id": "22580c65"
      },
      "source": [
        "In marketing, market segmentation is the process of dividing a broad consumer or business market, normally consisting of existing and potential customers, into sub-groups of consumers based on some type of shared characteristics."
      ]
    },
    {
      "cell_type": "markdown",
      "id": "5fc7cba9",
      "metadata": {
        "id": "5fc7cba9"
      },
      "source": [
        "We will be using Machine Learning to perform Customer Segmentation"
      ]
    },
    {
      "cell_type": "markdown",
      "id": "61d64e00",
      "metadata": {
        "id": "61d64e00"
      },
      "source": [
        "#### Time Line of the project:\n",
        "- Importing Libraries\n",
        "- Data Analysis\n",
        "- Data Preprocessing'\n",
        "- Model Building"
      ]
    },
    {
      "cell_type": "markdown",
      "id": "edc48c6d",
      "metadata": {
        "id": "edc48c6d"
      },
      "source": [
        "#### Importing Libraries"
      ]
    },
    {
      "cell_type": "code",
      "execution_count": null,
      "id": "286ff813",
      "metadata": {
        "_cell_guid": "b1076dfc-b9ad-4769-8c92-a6c4dae69d19",
        "_uuid": "8f2839f25d086af736a60e9eeb907d3b93b6e0e5",
        "execution": {
          "iopub.execute_input": "2021-12-28T04:57:23.501410Z",
          "iopub.status.busy": "2021-12-28T04:57:23.500115Z",
          "iopub.status.idle": "2021-12-28T04:57:23.519861Z",
          "shell.execute_reply": "2021-12-28T04:57:23.519050Z",
          "shell.execute_reply.started": "2021-12-26T17:22:37.753831Z"
        },
        "papermill": {
          "duration": 0.065087,
          "end_time": "2021-12-28T04:57:23.520043",
          "exception": false,
          "start_time": "2021-12-28T04:57:23.454956",
          "status": "completed"
        },
        "tags": [],
        "id": "286ff813"
      },
      "outputs": [],
      "source": [
        "import numpy as np\n",
        "import pandas as pd\n",
        "import matplotlib.pyplot as plt\n",
        "import seaborn as sns"
      ]
    },
    {
      "cell_type": "code",
      "execution_count": null,
      "id": "08b2bcfb",
      "metadata": {
        "execution": {
          "iopub.execute_input": "2021-12-28T04:57:23.686468Z",
          "iopub.status.busy": "2021-12-28T04:57:23.685755Z",
          "iopub.status.idle": "2021-12-28T04:57:25.102712Z",
          "shell.execute_reply": "2021-12-28T04:57:25.103291Z",
          "shell.execute_reply.started": "2021-12-26T17:22:37.799789Z"
        },
        "papermill": {
          "duration": 1.46055,
          "end_time": "2021-12-28T04:57:25.103491",
          "exception": false,
          "start_time": "2021-12-28T04:57:23.642941",
          "status": "completed"
        },
        "tags": [],
        "id": "08b2bcfb"
      },
      "outputs": [],
      "source": [
        "from sklearn.model_selection import train_test_split\n",
        "from sklearn.linear_model import LogisticRegression\n",
        "from sklearn.tree import DecisionTreeClassifier\n",
        "from sklearn.ensemble import RandomForestClassifier\n",
        "from sklearn.naive_bayes import GaussianNB\n",
        "from sklearn.neighbors import KNeighborsClassifier\n",
        "from sklearn.svm import SVC\n",
        "from sklearn.metrics import accuracy_score,classification_report,confusion_matrix\n",
        "from sklearn.preprocessing import LabelEncoder\n",
        "from sklearn.model_selection import cross_val_score\n",
        "from sklearn.preprocessing import LabelEncoder"
      ]
    },
    {
      "cell_type": "code",
      "execution_count": null,
      "id": "e6614e77",
      "metadata": {
        "execution": {
          "iopub.execute_input": "2021-12-28T04:57:25.191331Z",
          "iopub.status.busy": "2021-12-28T04:57:25.190617Z",
          "iopub.status.idle": "2021-12-28T04:57:25.245872Z",
          "shell.execute_reply": "2021-12-28T04:57:25.246417Z",
          "shell.execute_reply.started": "2021-12-26T17:22:39.23294Z"
        },
        "papermill": {
          "duration": 0.101199,
          "end_time": "2021-12-28T04:57:25.246603",
          "exception": false,
          "start_time": "2021-12-28T04:57:25.145404",
          "status": "completed"
        },
        "tags": [],
        "id": "e6614e77"
      },
      "outputs": [],
      "source": [
        "df = pd.read_csv('Train.csv')\n",
        "df.head()"
      ]
    },
    {
      "cell_type": "markdown",
      "id": "2efd1829",
      "metadata": {
        "id": "2efd1829"
      },
      "source": [
        "### Data Analysis"
      ]
    },
    {
      "cell_type": "markdown",
      "id": "65be5198",
      "metadata": {
        "papermill": {
          "duration": 0.041599,
          "end_time": "2021-12-28T04:57:25.330953",
          "exception": false,
          "start_time": "2021-12-28T04:57:25.289354",
          "status": "completed"
        },
        "tags": [],
        "id": "65be5198"
      },
      "source": [
        "__Checking for Datatypes__"
      ]
    },
    {
      "cell_type": "code",
      "execution_count": null,
      "id": "51897116",
      "metadata": {
        "execution": {
          "iopub.execute_input": "2021-12-28T04:57:25.418671Z",
          "iopub.status.busy": "2021-12-28T04:57:25.418001Z",
          "iopub.status.idle": "2021-12-28T04:57:25.446535Z",
          "shell.execute_reply": "2021-12-28T04:57:25.447393Z",
          "shell.execute_reply.started": "2021-12-26T17:22:39.291664Z"
        },
        "papermill": {
          "duration": 0.074958,
          "end_time": "2021-12-28T04:57:25.447669",
          "exception": false,
          "start_time": "2021-12-28T04:57:25.372711",
          "status": "completed"
        },
        "tags": [],
        "id": "51897116"
      },
      "outputs": [],
      "source": [
        "#info\n",
        "df.info()"
      ]
    },
    {
      "cell_type": "code",
      "execution_count": null,
      "id": "a032b76c",
      "metadata": {
        "id": "a032b76c"
      },
      "outputs": [],
      "source": [
        "df['Segmentation'].value_counts()"
      ]
    },
    {
      "cell_type": "code",
      "execution_count": null,
      "id": "9b838b15",
      "metadata": {
        "execution": {
          "iopub.execute_input": "2021-12-28T04:57:25.623932Z",
          "iopub.status.busy": "2021-12-28T04:57:25.622874Z",
          "iopub.status.idle": "2021-12-28T04:57:25.677382Z",
          "shell.execute_reply": "2021-12-28T04:57:25.677979Z",
          "shell.execute_reply.started": "2021-12-26T17:22:39.324341Z"
        },
        "papermill": {
          "duration": 0.104043,
          "end_time": "2021-12-28T04:57:25.678180",
          "exception": false,
          "start_time": "2021-12-28T04:57:25.574137",
          "status": "completed"
        },
        "tags": [],
        "id": "9b838b15"
      },
      "outputs": [],
      "source": [
        "#describe\n",
        "df.describe()"
      ]
    },
    {
      "cell_type": "markdown",
      "id": "90be5264",
      "metadata": {
        "papermill": {
          "duration": 0.042019,
          "end_time": "2021-12-28T04:57:25.762742",
          "exception": false,
          "start_time": "2021-12-28T04:57:25.720723",
          "status": "completed"
        },
        "tags": [],
        "id": "90be5264"
      },
      "source": [
        "**Checking for column names**"
      ]
    },
    {
      "cell_type": "code",
      "execution_count": null,
      "id": "ef7daf96",
      "metadata": {
        "id": "ef7daf96"
      },
      "outputs": [],
      "source": [
        "col= df.columns\n",
        "col"
      ]
    },
    {
      "cell_type": "markdown",
      "id": "41fbe940",
      "metadata": {
        "id": "41fbe940"
      },
      "source": [
        "#### Checking null values"
      ]
    },
    {
      "cell_type": "code",
      "execution_count": null,
      "id": "0aa9d2a8",
      "metadata": {
        "id": "0aa9d2a8"
      },
      "outputs": [],
      "source": [
        "df.shape"
      ]
    },
    {
      "cell_type": "code",
      "execution_count": null,
      "id": "149e90af",
      "metadata": {
        "id": "149e90af"
      },
      "outputs": [],
      "source": [
        "df.isnull().sum()"
      ]
    },
    {
      "cell_type": "code",
      "execution_count": null,
      "id": "615fc89d",
      "metadata": {
        "id": "615fc89d"
      },
      "outputs": [],
      "source": [
        "df= df.dropna()"
      ]
    },
    {
      "cell_type": "code",
      "execution_count": null,
      "id": "3b075cf6",
      "metadata": {
        "id": "3b075cf6"
      },
      "outputs": [],
      "source": [
        "df.isnull().sum()"
      ]
    },
    {
      "cell_type": "markdown",
      "id": "b9c6df48",
      "metadata": {
        "papermill": {
          "duration": 0.043248,
          "end_time": "2021-12-28T04:57:25.943514",
          "exception": false,
          "start_time": "2021-12-28T04:57:25.900266",
          "status": "completed"
        },
        "tags": [],
        "id": "b9c6df48"
      },
      "source": [
        "#### Data Analysis"
      ]
    },
    {
      "cell_type": "code",
      "execution_count": null,
      "id": "718603fe",
      "metadata": {
        "id": "718603fe"
      },
      "outputs": [],
      "source": [
        "plt.figure(1 , figsize = (15 , 6))\n",
        "n = 0\n",
        "for x in ['Age' , 'Work_Experience' , 'Family_Size']:\n",
        "    n += 1\n",
        "    plt.subplot(1 , 3 , n)\n",
        "    plt.subplots_adjust(hspace =0.5 , wspace = 0.5)\n",
        "    sns.distplot(df[x] , bins = 20)\n",
        "    plt.title('Distplot of {}'.format(x))\n",
        "plt.show()"
      ]
    },
    {
      "cell_type": "code",
      "execution_count": null,
      "id": "5e9b41b5",
      "metadata": {
        "execution": {
          "iopub.execute_input": "2021-12-28T04:57:26.032678Z",
          "iopub.status.busy": "2021-12-28T04:57:26.032009Z",
          "iopub.status.idle": "2021-12-28T04:57:26.054440Z",
          "shell.execute_reply": "2021-12-28T04:57:26.055051Z",
          "shell.execute_reply.started": "2021-12-26T17:22:39.391451Z"
        },
        "papermill": {
          "duration": 0.068651,
          "end_time": "2021-12-28T04:57:26.055248",
          "exception": false,
          "start_time": "2021-12-28T04:57:25.986597",
          "status": "completed"
        },
        "tags": [],
        "id": "5e9b41b5"
      },
      "outputs": [],
      "source": [
        "# check for segmentation columns\n",
        "df.groupby('Segmentation')[[ 'Age','Work_Experience','Family_Size', 'Var_1']].agg('mean')"
      ]
    },
    {
      "cell_type": "code",
      "execution_count": null,
      "id": "6df02f82",
      "metadata": {
        "execution": {
          "iopub.execute_input": "2021-12-28T04:57:26.151113Z",
          "iopub.status.busy": "2021-12-28T04:57:26.149903Z",
          "iopub.status.idle": "2021-12-28T04:57:26.491203Z",
          "shell.execute_reply": "2021-12-28T04:57:26.490622Z",
          "shell.execute_reply.started": "2021-12-26T17:22:39.419459Z"
        },
        "papermill": {
          "duration": 0.392722,
          "end_time": "2021-12-28T04:57:26.491361",
          "exception": false,
          "start_time": "2021-12-28T04:57:26.098639",
          "status": "completed"
        },
        "tags": [],
        "id": "6df02f82"
      },
      "outputs": [],
      "source": [
        "df.groupby('Segmentation')[[ 'Age','Work_Experience','Family_Size', 'Var_1']].agg('mean').plot(kind = 'bar')"
      ]
    },
    {
      "cell_type": "code",
      "execution_count": null,
      "id": "715af48b",
      "metadata": {
        "execution": {
          "iopub.execute_input": "2021-12-28T04:57:26.588209Z",
          "iopub.status.busy": "2021-12-28T04:57:26.587479Z",
          "iopub.status.idle": "2021-12-28T04:57:26.597156Z",
          "shell.execute_reply": "2021-12-28T04:57:26.597706Z",
          "shell.execute_reply.started": "2021-12-26T17:22:39.71867Z"
        },
        "papermill": {
          "duration": 0.062447,
          "end_time": "2021-12-28T04:57:26.597911",
          "exception": false,
          "start_time": "2021-12-28T04:57:26.535464",
          "status": "completed"
        },
        "tags": [],
        "id": "715af48b"
      },
      "outputs": [],
      "source": [
        "df.groupby('Gender')[['Age','Work_Experience','Family_Size']].agg('mean')"
      ]
    },
    {
      "cell_type": "code",
      "execution_count": null,
      "id": "4b9a3a81",
      "metadata": {
        "execution": {
          "iopub.execute_input": "2021-12-28T04:57:26.692899Z",
          "iopub.status.busy": "2021-12-28T04:57:26.691746Z",
          "iopub.status.idle": "2021-12-28T04:57:26.965964Z",
          "shell.execute_reply": "2021-12-28T04:57:26.965390Z",
          "shell.execute_reply.started": "2021-12-26T17:22:39.737278Z"
        },
        "papermill": {
          "duration": 0.322507,
          "end_time": "2021-12-28T04:57:26.966118",
          "exception": false,
          "start_time": "2021-12-28T04:57:26.643611",
          "status": "completed"
        },
        "tags": [],
        "id": "4b9a3a81"
      },
      "outputs": [],
      "source": [
        "df.groupby('Gender')[['Age','Work_Experience','Family_Size']].agg('mean').plot(kind = 'bar')"
      ]
    },
    {
      "cell_type": "code",
      "execution_count": null,
      "id": "05ff98d0",
      "metadata": {
        "execution": {
          "iopub.execute_input": "2021-12-28T04:57:27.060708Z",
          "iopub.status.busy": "2021-12-28T04:57:27.060059Z",
          "iopub.status.idle": "2021-12-28T04:57:27.078951Z",
          "shell.execute_reply": "2021-12-28T04:57:27.078285Z",
          "shell.execute_reply.started": "2021-12-26T17:22:39.972214Z"
        },
        "papermill": {
          "duration": 0.067924,
          "end_time": "2021-12-28T04:57:27.079117",
          "exception": false,
          "start_time": "2021-12-28T04:57:27.011193",
          "status": "completed"
        },
        "tags": [],
        "id": "05ff98d0"
      },
      "outputs": [],
      "source": [
        "# we will check for profession by gender\n",
        "df.groupby(['Profession','Gender'])[['Gender']].count()"
      ]
    },
    {
      "cell_type": "code",
      "execution_count": null,
      "id": "8952c85d",
      "metadata": {
        "id": "8952c85d"
      },
      "outputs": [],
      "source": [
        "df.groupby(['Profession','Gender'])[['Gender']].count().plot(kind= 'bar')"
      ]
    },
    {
      "cell_type": "code",
      "execution_count": null,
      "id": "531ec291",
      "metadata": {
        "execution": {
          "iopub.execute_input": "2021-12-28T04:57:27.180332Z",
          "iopub.status.busy": "2021-12-28T04:57:27.179350Z",
          "iopub.status.idle": "2021-12-28T04:57:27.191966Z",
          "shell.execute_reply": "2021-12-28T04:57:27.192528Z",
          "shell.execute_reply.started": "2021-12-26T17:22:39.991186Z"
        },
        "papermill": {
          "duration": 0.066565,
          "end_time": "2021-12-28T04:57:27.192715",
          "exception": false,
          "start_time": "2021-12-28T04:57:27.126150",
          "status": "completed"
        },
        "tags": [],
        "id": "531ec291"
      },
      "outputs": [],
      "source": [
        "# check the spending score by Gender\n",
        "df.groupby(['Gender','Spending_Score'])[['Spending_Score']].count()"
      ]
    },
    {
      "cell_type": "code",
      "execution_count": null,
      "id": "aba14046",
      "metadata": {
        "execution": {
          "iopub.execute_input": "2021-12-28T04:57:27.292140Z",
          "iopub.status.busy": "2021-12-28T04:57:27.291175Z",
          "iopub.status.idle": "2021-12-28T04:57:27.579204Z",
          "shell.execute_reply": "2021-12-28T04:57:27.578612Z",
          "shell.execute_reply.started": "2021-12-26T17:22:40.01331Z"
        },
        "papermill": {
          "duration": 0.337953,
          "end_time": "2021-12-28T04:57:27.579367",
          "exception": false,
          "start_time": "2021-12-28T04:57:27.241414",
          "status": "completed"
        },
        "tags": [],
        "id": "aba14046"
      },
      "outputs": [],
      "source": [
        "df.groupby(['Gender','Spending_Score'])[['Spending_Score']].count().plot(kind = 'barh')"
      ]
    },
    {
      "cell_type": "code",
      "execution_count": null,
      "id": "5e66d630",
      "metadata": {
        "id": "5e66d630"
      },
      "outputs": [],
      "source": [
        "sns.pairplot(df)"
      ]
    },
    {
      "cell_type": "markdown",
      "id": "49e52b9c",
      "metadata": {
        "papermill": {
          "duration": 0.050284,
          "end_time": "2021-12-28T04:57:28.019948",
          "exception": false,
          "start_time": "2021-12-28T04:57:27.969664",
          "status": "completed"
        },
        "tags": [],
        "id": "49e52b9c"
      },
      "source": [
        "__Checking for correlation__"
      ]
    },
    {
      "cell_type": "code",
      "execution_count": null,
      "id": "a0d3a30c",
      "metadata": {
        "execution": {
          "iopub.execute_input": "2021-12-28T04:57:33.306957Z",
          "iopub.status.busy": "2021-12-28T04:57:33.306278Z",
          "iopub.status.idle": "2021-12-28T04:57:33.663950Z",
          "shell.execute_reply": "2021-12-28T04:57:33.664588Z",
          "shell.execute_reply.started": "2021-12-26T17:22:44.417961Z"
        },
        "papermill": {
          "duration": 0.417355,
          "end_time": "2021-12-28T04:57:33.664787",
          "exception": false,
          "start_time": "2021-12-28T04:57:33.247432",
          "status": "completed"
        },
        "tags": [],
        "id": "a0d3a30c"
      },
      "outputs": [],
      "source": [
        "sns.heatmap(df.corr(),annot = True)"
      ]
    },
    {
      "cell_type": "code",
      "execution_count": null,
      "id": "b8e4f368",
      "metadata": {
        "id": "b8e4f368"
      },
      "outputs": [],
      "source": [
        "df"
      ]
    },
    {
      "cell_type": "markdown",
      "id": "0eaa09fb",
      "metadata": {
        "id": "0eaa09fb"
      },
      "source": [
        "## Moving with Supervised Approach"
      ]
    },
    {
      "cell_type": "markdown",
      "id": "ac155fe5",
      "metadata": {
        "id": "ac155fe5"
      },
      "source": [
        "### Data Preprocessing"
      ]
    },
    {
      "cell_type": "markdown",
      "id": "2cd25757",
      "metadata": {
        "papermill": {
          "duration": 0.057062,
          "end_time": "2021-12-28T04:57:33.778452",
          "exception": false,
          "start_time": "2021-12-28T04:57:33.721390",
          "status": "completed"
        },
        "tags": [],
        "id": "2cd25757"
      },
      "source": [
        "One Hot Encoding"
      ]
    },
    {
      "cell_type": "code",
      "execution_count": null,
      "id": "2ca39d6c",
      "metadata": {
        "execution": {
          "iopub.execute_input": "2021-12-28T04:57:33.900102Z",
          "iopub.status.busy": "2021-12-28T04:57:33.897740Z",
          "iopub.status.idle": "2021-12-28T04:57:33.914466Z",
          "shell.execute_reply": "2021-12-28T04:57:33.915430Z",
          "shell.execute_reply.started": "2021-12-26T17:22:44.733184Z"
        },
        "papermill": {
          "duration": 0.080881,
          "end_time": "2021-12-28T04:57:33.915729",
          "exception": false,
          "start_time": "2021-12-28T04:57:33.834848",
          "status": "completed"
        },
        "tags": [],
        "id": "2ca39d6c"
      },
      "outputs": [],
      "source": [
        "var = ['Gender', 'Ever_Married', 'Graduated', 'Profession', 'Spending_Score', 'Var_1']\n",
        "df_dummies = pd.get_dummies(df,columns=var)\n",
        "print(df_dummies.columns.tolist())"
      ]
    },
    {
      "cell_type": "markdown",
      "id": "f8c6316d",
      "metadata": {
        "papermill": {
          "duration": 0.057095,
          "end_time": "2021-12-28T04:57:34.031086",
          "exception": false,
          "start_time": "2021-12-28T04:57:33.973991",
          "status": "completed"
        },
        "tags": [],
        "id": "f8c6316d"
      },
      "source": [
        "**Using Label encoder to encode Segmentation column**"
      ]
    },
    {
      "cell_type": "code",
      "execution_count": null,
      "id": "e5688d4f",
      "metadata": {
        "execution": {
          "iopub.execute_input": "2021-12-28T04:57:34.151706Z",
          "iopub.status.busy": "2021-12-28T04:57:34.150543Z",
          "iopub.status.idle": "2021-12-28T04:57:34.158237Z",
          "shell.execute_reply": "2021-12-28T04:57:34.158889Z",
          "shell.execute_reply.started": "2021-12-26T17:22:44.756804Z"
        },
        "papermill": {
          "duration": 0.069841,
          "end_time": "2021-12-28T04:57:34.159091",
          "exception": false,
          "start_time": "2021-12-28T04:57:34.089250",
          "status": "completed"
        },
        "tags": [],
        "id": "e5688d4f"
      },
      "outputs": [],
      "source": [
        "le = LabelEncoder()\n",
        "df_dummies['Segmentation'] = le.fit_transform(df_dummies['Segmentation'])\n"
      ]
    },
    {
      "cell_type": "code",
      "execution_count": null,
      "id": "4a3f3b4e",
      "metadata": {
        "execution": {
          "iopub.execute_input": "2021-12-28T04:57:34.279918Z",
          "iopub.status.busy": "2021-12-28T04:57:34.278738Z",
          "iopub.status.idle": "2021-12-28T04:57:34.630199Z",
          "shell.execute_reply": "2021-12-28T04:57:34.630814Z",
          "shell.execute_reply.started": "2021-12-26T17:22:44.767393Z"
        },
        "papermill": {
          "duration": 0.414143,
          "end_time": "2021-12-28T04:57:34.631000",
          "exception": false,
          "start_time": "2021-12-28T04:57:34.216857",
          "status": "completed"
        },
        "tags": [],
        "id": "4a3f3b4e"
      },
      "outputs": [],
      "source": [
        "plt.figure(figsize = (15,5))\n",
        "plt.subplot(1,2,1)\n",
        "df['Segmentation'].value_counts().plot(kind = 'bar')\n",
        "plt.subplot(1,2,2)\n",
        "df_dummies['Segmentation'].value_counts().plot(kind = 'bar')\n",
        "plt.show()"
      ]
    },
    {
      "cell_type": "markdown",
      "id": "53a18946",
      "metadata": {
        "papermill": {
          "duration": 0.058097,
          "end_time": "2021-12-28T04:57:34.746981",
          "exception": false,
          "start_time": "2021-12-28T04:57:34.688884",
          "status": "completed"
        },
        "tags": [],
        "id": "53a18946"
      },
      "source": [
        "__Divide the data into train and test set__"
      ]
    },
    {
      "cell_type": "code",
      "execution_count": null,
      "id": "e31bdd90",
      "metadata": {
        "execution": {
          "iopub.execute_input": "2021-12-28T04:57:34.867357Z",
          "iopub.status.busy": "2021-12-28T04:57:34.866271Z",
          "iopub.status.idle": "2021-12-28T04:57:34.879000Z",
          "shell.execute_reply": "2021-12-28T04:57:34.878347Z",
          "shell.execute_reply.started": "2021-12-26T17:22:45.071866Z"
        },
        "papermill": {
          "duration": 0.074428,
          "end_time": "2021-12-28T04:57:34.879158",
          "exception": false,
          "start_time": "2021-12-28T04:57:34.804730",
          "status": "completed"
        },
        "tags": [],
        "id": "e31bdd90"
      },
      "outputs": [],
      "source": [
        "X = df_dummies.drop(['Segmentation','ID'],axis = 1)\n",
        "y = df_dummies['Segmentation']\n",
        "X_train,X_test,y_train,y_test = train_test_split(X,y,random_state=42,test_size=0.20)"
      ]
    },
    {
      "cell_type": "markdown",
      "id": "0cdae46d",
      "metadata": {
        "papermill": {
          "duration": 0.058256,
          "end_time": "2021-12-28T04:57:34.995379",
          "exception": false,
          "start_time": "2021-12-28T04:57:34.937123",
          "status": "completed"
        },
        "tags": [],
        "id": "0cdae46d"
      },
      "source": [
        "**Decision Tree**"
      ]
    },
    {
      "cell_type": "code",
      "execution_count": null,
      "id": "93df6879",
      "metadata": {
        "execution": {
          "iopub.execute_input": "2021-12-28T04:57:35.117942Z",
          "iopub.status.busy": "2021-12-28T04:57:35.116763Z",
          "iopub.status.idle": "2021-12-28T04:57:35.149738Z",
          "shell.execute_reply": "2021-12-28T04:57:35.149156Z",
          "shell.execute_reply.started": "2021-12-26T17:22:45.084502Z"
        },
        "papermill": {
          "duration": 0.095335,
          "end_time": "2021-12-28T04:57:35.149927",
          "exception": false,
          "start_time": "2021-12-28T04:57:35.054592",
          "status": "completed"
        },
        "tags": [],
        "id": "93df6879"
      },
      "outputs": [],
      "source": [
        "dct = DecisionTreeClassifier()\n",
        "dct.fit(X_train,y_train)\n",
        "pred= dct.predict(X_test)"
      ]
    },
    {
      "cell_type": "code",
      "execution_count": null,
      "id": "45761127",
      "metadata": {
        "id": "45761127"
      },
      "outputs": [],
      "source": [
        "score= accuracy_score(pred,y_test)\n",
        "score"
      ]
    },
    {
      "cell_type": "markdown",
      "id": "fb0c7f16",
      "metadata": {
        "papermill": {
          "duration": 0.058566,
          "end_time": "2021-12-28T04:57:35.266762",
          "exception": false,
          "start_time": "2021-12-28T04:57:35.208196",
          "status": "completed"
        },
        "tags": [],
        "id": "fb0c7f16"
      },
      "source": [
        "__Random Forest__"
      ]
    },
    {
      "cell_type": "code",
      "execution_count": null,
      "id": "066369f8",
      "metadata": {
        "execution": {
          "iopub.execute_input": "2021-12-28T04:57:35.390755Z",
          "iopub.status.busy": "2021-12-28T04:57:35.390039Z",
          "iopub.status.idle": "2021-12-28T04:57:43.258114Z",
          "shell.execute_reply": "2021-12-28T04:57:43.258668Z",
          "shell.execute_reply.started": "2021-12-26T17:22:45.124024Z"
        },
        "papermill": {
          "duration": 7.932204,
          "end_time": "2021-12-28T04:57:43.258877",
          "exception": false,
          "start_time": "2021-12-28T04:57:35.326673",
          "status": "completed"
        },
        "tags": [],
        "id": "066369f8"
      },
      "outputs": [],
      "source": [
        "rf = RandomForestClassifier(n_estimators=1000)\n",
        "rf.fit(X_train,y_train)\n",
        "pred1= rf.predict(X_test)"
      ]
    },
    {
      "cell_type": "code",
      "execution_count": null,
      "id": "e1be9933",
      "metadata": {
        "id": "e1be9933"
      },
      "outputs": [],
      "source": [
        "score= accuracy_score(pred1,y_test)\n",
        "score"
      ]
    },
    {
      "cell_type": "markdown",
      "id": "285518f0",
      "metadata": {
        "id": "285518f0"
      },
      "source": [
        "## UnSupervised Approach"
      ]
    },
    {
      "cell_type": "markdown",
      "id": "fc55c291",
      "metadata": {
        "id": "fc55c291"
      },
      "source": [
        "Using K Means Clustering"
      ]
    },
    {
      "cell_type": "code",
      "execution_count": null,
      "id": "50bf6326",
      "metadata": {
        "id": "50bf6326"
      },
      "outputs": [],
      "source": [
        "import plotly as py\n",
        "import plotly.graph_objs as go\n",
        "from sklearn.cluster import KMeans\n"
      ]
    },
    {
      "cell_type": "markdown",
      "id": "18addd61",
      "metadata": {
        "id": "18addd61"
      },
      "source": [
        "1) Segmentation using Age and Family Size"
      ]
    },
    {
      "cell_type": "code",
      "execution_count": null,
      "id": "ef4676f0",
      "metadata": {
        "id": "ef4676f0"
      },
      "outputs": [],
      "source": [
        "df"
      ]
    },
    {
      "cell_type": "code",
      "execution_count": null,
      "id": "1fbacebf",
      "metadata": {
        "id": "1fbacebf"
      },
      "outputs": [],
      "source": [
        "X1 = df[['Age' , 'Family_Size']].iloc[: , :].values\n",
        "inertia = []\n",
        "for n in range(1 , 11):\n",
        "    algorithm = (KMeans(n_clusters = n ,init='k-means++', n_init = 10 ,max_iter=300,\n",
        "                        tol=0.0001,  random_state= 111  , algorithm='elkan') )\n",
        "    algorithm.fit(X1)\n",
        "    inertia.append(algorithm.inertia_)"
      ]
    },
    {
      "cell_type": "code",
      "execution_count": null,
      "id": "b21c16db",
      "metadata": {
        "id": "b21c16db"
      },
      "outputs": [],
      "source": [
        "plt.figure(1 , figsize = (15 ,6))\n",
        "plt.plot(np.arange(1 , 11) , inertia , 'o')\n",
        "plt.plot(np.arange(1 , 11) , inertia , '-' , alpha = 0.5)\n",
        "plt.xlabel('Number of Clusters') , plt.ylabel('Inertia')\n",
        "plt.show()"
      ]
    },
    {
      "cell_type": "code",
      "execution_count": null,
      "id": "abfd01a6",
      "metadata": {
        "id": "abfd01a6"
      },
      "outputs": [],
      "source": [
        "algorithm = (KMeans(n_clusters = 5 ,init='k-means++', n_init = 10 ,max_iter=300,\n",
        "                        tol=0.0001,  random_state= 111  , algorithm='elkan') )\n",
        "algorithm.fit(X1)\n",
        "labels2 = algorithm.labels_\n",
        "centroids2 = algorithm.cluster_centers_"
      ]
    },
    {
      "cell_type": "code",
      "execution_count": null,
      "id": "f377c02b",
      "metadata": {
        "id": "f377c02b"
      },
      "outputs": [],
      "source": [
        "plt.figure(1 , figsize = (15 , 7) )\n",
        "\n",
        "\n",
        "plt.scatter( x = 'Age' ,y = 'Family_Size' , data = df , c = labels2 ,\n",
        "            s = 200 )\n",
        "plt.scatter(x = centroids2[: , 0] , y =  centroids2[: , 1] , s = 300 , c = 'red' , alpha = 0.5)\n",
        "plt.ylabel('Family Size') , plt.xlabel('Age')\n",
        "plt.show()"
      ]
    },
    {
      "cell_type": "code",
      "execution_count": null,
      "id": "442bf391",
      "metadata": {
        "id": "442bf391"
      },
      "outputs": [],
      "source": []
    }
  ],
  "metadata": {
    "kernelspec": {
      "display_name": "Python 3",
      "language": "python",
      "name": "python3"
    },
    "language_info": {
      "codemirror_mode": {
        "name": "ipython",
        "version": 3
      },
      "file_extension": ".py",
      "mimetype": "text/x-python",
      "name": "python",
      "nbconvert_exporter": "python",
      "pygments_lexer": "ipython3",
      "version": "3.8.8"
    },
    "papermill": {
      "default_parameters": {},
      "duration": 120.614273,
      "end_time": "2021-12-28T04:59:12.013431",
      "environment_variables": {},
      "exception": null,
      "input_path": "__notebook__.ipynb",
      "output_path": "__notebook__.ipynb",
      "parameters": {},
      "start_time": "2021-12-28T04:57:11.399158",
      "version": "2.3.3"
    },
    "colab": {
      "provenance": []
    }
  },
  "nbformat": 4,
  "nbformat_minor": 5
}